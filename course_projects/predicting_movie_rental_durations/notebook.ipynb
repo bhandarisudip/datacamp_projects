{
 "cells": [
  {
   "cell_type": "markdown",
   "id": "b4ae5707-109f-4cd6-8168-88cac0179d6b",
   "metadata": {},
   "source": [
    "A DVD rental company needs your help! They want to figure out how many days a customer will rent a DVD for based on some features and has approached you for help. They want you to try out some regression models which will help predict the number of days a customer will rent a DVD for. The company wants a model which yeilds a MSE of 3 or less on a test set. The model you make will help the company become more efficient inventory planning.\n",
    "\n",
    "The data they provided is in the csv file `rental_info.csv`. It has the following features:\n",
    "- `\"rental_date\"`: The date (and time) the customer rents the DVD.\n",
    "- `\"return_date\"`: The date (and time) the customer returns the DVD.\n",
    "- `\"amount\"`: The amount paid by the customer for renting the DVD.\n",
    "- `\"amount_2\"`: The square of `\"amount\"`.\n",
    "- `\"rental_rate\"`: The rate at which the DVD is rented for.\n",
    "- `\"rental_rate_2\"`: The square of `\"rental_rate\"`.\n",
    "- `\"release_year\"`: The year the movie being rented was released.\n",
    "- `\"length\"`: Lenght of the movie being rented, in minuites.\n",
    "- `\"length_2\"`: The square of `\"length\"`.\n",
    "- `\"replacement_cost\"`: The amount it will cost the company to replace the DVD.\n",
    "- `\"special_features\"`: Any special features, for example trailers/deleted scenes that the DVD also has.\n",
    "- `\"NC-17\"`, `\"PG\"`, `\"PG-13\"`, `\"R\"`: These columns are dummy variables of the rating of the movie. It takes the value 1 if the move is rated as the column name and 0 otherwise. For your convinience, the reference dummy has already been dropped."
   ]
  },
  {
   "cell_type": "markdown",
   "id": "397075c0-a32d-43d1-92f1-62da2956c943",
   "metadata": {},
   "source": [
    "## Project Instructions\n",
    "In this project, you will use regression models to predict the number of days a customer rents DVDs for.\n",
    "\n",
    "As with most data science projects, you will need to pre-process the data provided, in this case, a csv file called rental_info.csv. Specifically, you need to:\n",
    "\n",
    "1. Read in the csv file rental_info.csv using pandas.\n",
    "2. Create a column named \"rental_length_days\" using the columns \"return_date\" and \"rental_date\", and add it to the pandas DataFrame. This column should contain information on how many days a DVD has been rented by a customer.\n",
    "3. Create two columns of dummy variables from \"special_features\", which takes the value of 1 when:\n",
    "    1. The value is \"Deleted Scenes\", storing as a column called \"deleted_scenes\".\n",
    "    1. The value is \"Behind the Scenes\", storing as a column called \"behind_the_scenes\".\n",
    "4. Make a pandas DataFrame called X containing all the appropriate features you can use to run the regression models, avoiding columns that leak data about the target.\n",
    "5. Choose the \"rental_length_days\" as the target column and save it as a pandas Series called y.\n",
    "\n",
    "Following the preprocessing you will need to:\n",
    "\n",
    "6. Split the data into X_train, y_train, X_test, and y_test train and test sets, avoiding any features that leak data about the target variable, and include 20% of the total data in the test set.\n",
    "    1. Set random_state to 9 whenever you use a function/method involving randomness, for example, when doing a test-train split.\n",
    "\n",
    "7. Recommend a model yielding a mean squared error (MSE) less than 3 on the test set\n",
    "\n",
    "8. Save the model you would recommend as a variable named best_model, and save its MSE on the test set as best_mse."
   ]
  },
  {
   "cell_type": "code",
   "execution_count": 1,
   "id": "a7ede566-910a-445c-b11a-68d192ac8506",
   "metadata": {
    "executionCancelledAt": null,
    "executionTime": 178,
    "lastExecutedAt": 1686931416969,
    "lastScheduledRunId": null,
    "lastSuccessfullyExecutedCode": "# Start your coding from below\nimport pandas as pd\nimport numpy as np\n\nfrom sklearn.model_selection import train_test_split\nfrom sklearn.metrics import mean_squared_error"
   },
   "outputs": [],
   "source": [
    "# Import libraries\n",
    "import pandas as pd\n",
    "import matplotlib.pyplot as plt\n",
    "import numpy as np\n",
    "import seaborn as sns\n",
    "\n",
    "from sklearn.model_selection import train_test_split\n",
    "from sklearn.metrics import mean_squared_error"
   ]
  },
  {
   "cell_type": "markdown",
   "id": "cfcc4770-f520-4f08-b226-d4541708ad3a",
   "metadata": {},
   "source": [
    "## 1. Read in the csv file rental_info.csv using pandas."
   ]
  },
  {
   "cell_type": "code",
   "execution_count": 2,
   "id": "12c729f4-0773-44bb-9714-bf66514abdb1",
   "metadata": {},
   "outputs": [],
   "source": [
    "rental_info = pd.read_csv('rental_info.csv')"
   ]
  },
  {
   "cell_type": "code",
   "execution_count": 3,
   "id": "453ef7d4-f9d5-4816-ac86-d0dd6fec01fd",
   "metadata": {},
   "outputs": [
    {
     "data": {
      "text/plain": [
       "(15861, 15)"
      ]
     },
     "execution_count": 3,
     "metadata": {},
     "output_type": "execute_result"
    }
   ],
   "source": [
    "rental_info.shape"
   ]
  },
  {
   "cell_type": "markdown",
   "id": "a629f643-9266-440c-bd40-c214f14e3aa9",
   "metadata": {},
   "source": [
    "## 2. Create a column named \"rental_length_days\" using the columns \"return_date\" and \"rental_date\", and add it to the pandas DataFrame. This column should contain information on how many days a DVD has been rented by a customer."
   ]
  },
  {
   "cell_type": "code",
   "execution_count": 4,
   "id": "e6e96e6e-cdba-451a-aab5-d259291813ca",
   "metadata": {},
   "outputs": [],
   "source": [
    "rental_info[\"rental_length\"] = pd.to_datetime(rental_info[\"return_date\"]) - pd.to_datetime(rental_info[\"rental_date\"])\n",
    "rental_info[\"rental_length_days\"] = rental_info[\"rental_length\"].dt.days"
   ]
  },
  {
   "cell_type": "markdown",
   "id": "b4968ca5-0793-4d1a-a139-ecee80d65cfd",
   "metadata": {},
   "source": [
    "## 3. Create two columns of dummy variables from \"special_features\", which takes the value of 1 when:\n",
    "    1. The value is \"Deleted Scenes\", storing as a column called \"deleted_scenes\".\n",
    "    1. The value is \"Behind the Scenes\", storing as a column called \"behind_the_scenes\".\n"
   ]
  },
  {
   "cell_type": "code",
   "execution_count": 5,
   "id": "4f8ed5c6-2050-4eb3-b0db-702763e837e5",
   "metadata": {},
   "outputs": [],
   "source": [
    "rental_info['deleted_scenes'] = pd.Series([1 if 'Deleted Scenes' in val  else 0 for val in rental_info['special_features']])\n",
    "rental_info['behind_the_scenes'] = pd.Series([1 if 'Behind the Scenes' in val else 0 for val in rental_info['special_features']])"
   ]
  },
  {
   "cell_type": "markdown",
   "id": "8a424295-9d07-4dd9-8be5-1499e2be5705",
   "metadata": {},
   "source": [
    "## 4. Make a pandas DataFrame called X containing all the appropriate features you can use to run the regression models, avoiding columns that leak data about the target."
   ]
  },
  {
   "cell_type": "code",
   "execution_count": 6,
   "id": "cf67a0ba-ea01-478b-aa1d-bf9b3a1dccbc",
   "metadata": {},
   "outputs": [
    {
     "data": {
      "text/html": [
       "<div>\n",
       "<style scoped>\n",
       "    .dataframe tbody tr th:only-of-type {\n",
       "        vertical-align: middle;\n",
       "    }\n",
       "\n",
       "    .dataframe tbody tr th {\n",
       "        vertical-align: top;\n",
       "    }\n",
       "\n",
       "    .dataframe thead th {\n",
       "        text-align: right;\n",
       "    }\n",
       "</style>\n",
       "<table border=\"1\" class=\"dataframe\">\n",
       "  <thead>\n",
       "    <tr style=\"text-align: right;\">\n",
       "      <th></th>\n",
       "      <th>rental_date</th>\n",
       "      <th>return_date</th>\n",
       "      <th>amount</th>\n",
       "      <th>release_year</th>\n",
       "      <th>rental_rate</th>\n",
       "      <th>length</th>\n",
       "      <th>replacement_cost</th>\n",
       "      <th>special_features</th>\n",
       "      <th>NC-17</th>\n",
       "      <th>PG</th>\n",
       "      <th>PG-13</th>\n",
       "      <th>R</th>\n",
       "      <th>amount_2</th>\n",
       "      <th>length_2</th>\n",
       "      <th>rental_rate_2</th>\n",
       "      <th>rental_length</th>\n",
       "      <th>rental_length_days</th>\n",
       "      <th>deleted_scenes</th>\n",
       "      <th>behind_the_scenes</th>\n",
       "    </tr>\n",
       "  </thead>\n",
       "  <tbody>\n",
       "    <tr>\n",
       "      <th>0</th>\n",
       "      <td>2005-05-25 02:54:33+00:00</td>\n",
       "      <td>2005-05-28 23:40:33+00:00</td>\n",
       "      <td>2.99</td>\n",
       "      <td>2005.0</td>\n",
       "      <td>2.99</td>\n",
       "      <td>126.0</td>\n",
       "      <td>16.99</td>\n",
       "      <td>{Trailers,\"Behind the Scenes\"}</td>\n",
       "      <td>0</td>\n",
       "      <td>0</td>\n",
       "      <td>0</td>\n",
       "      <td>1</td>\n",
       "      <td>8.9401</td>\n",
       "      <td>15876.0</td>\n",
       "      <td>8.9401</td>\n",
       "      <td>3 days 20:46:00</td>\n",
       "      <td>3</td>\n",
       "      <td>0</td>\n",
       "      <td>1</td>\n",
       "    </tr>\n",
       "    <tr>\n",
       "      <th>1</th>\n",
       "      <td>2005-06-15 23:19:16+00:00</td>\n",
       "      <td>2005-06-18 19:24:16+00:00</td>\n",
       "      <td>2.99</td>\n",
       "      <td>2005.0</td>\n",
       "      <td>2.99</td>\n",
       "      <td>126.0</td>\n",
       "      <td>16.99</td>\n",
       "      <td>{Trailers,\"Behind the Scenes\"}</td>\n",
       "      <td>0</td>\n",
       "      <td>0</td>\n",
       "      <td>0</td>\n",
       "      <td>1</td>\n",
       "      <td>8.9401</td>\n",
       "      <td>15876.0</td>\n",
       "      <td>8.9401</td>\n",
       "      <td>2 days 20:05:00</td>\n",
       "      <td>2</td>\n",
       "      <td>0</td>\n",
       "      <td>1</td>\n",
       "    </tr>\n",
       "  </tbody>\n",
       "</table>\n",
       "</div>"
      ],
      "text/plain": [
       "                 rental_date                return_date  amount  release_year  \\\n",
       "0  2005-05-25 02:54:33+00:00  2005-05-28 23:40:33+00:00    2.99        2005.0   \n",
       "1  2005-06-15 23:19:16+00:00  2005-06-18 19:24:16+00:00    2.99        2005.0   \n",
       "\n",
       "   rental_rate  length  replacement_cost                special_features  \\\n",
       "0         2.99   126.0             16.99  {Trailers,\"Behind the Scenes\"}   \n",
       "1         2.99   126.0             16.99  {Trailers,\"Behind the Scenes\"}   \n",
       "\n",
       "   NC-17  PG  PG-13  R  amount_2  length_2  rental_rate_2   rental_length  \\\n",
       "0      0   0      0  1    8.9401   15876.0         8.9401 3 days 20:46:00   \n",
       "1      0   0      0  1    8.9401   15876.0         8.9401 2 days 20:05:00   \n",
       "\n",
       "   rental_length_days  deleted_scenes  behind_the_scenes  \n",
       "0                   3               0                  1  \n",
       "1                   2               0                  1  "
      ]
     },
     "execution_count": 6,
     "metadata": {},
     "output_type": "execute_result"
    }
   ],
   "source": [
    "rental_info.head(2)"
   ]
  },
  {
   "cell_type": "code",
   "execution_count": 7,
   "id": "1a94ab03-360c-47e5-a789-82c80145fd6e",
   "metadata": {},
   "outputs": [],
   "source": [
    "X = rental_info[['amount',\n",
    "                 'release_year',\n",
    "                 'rental_rate',\n",
    "                 'length',\n",
    "                 'replacement_cost',\n",
    "                 'NC-17',\n",
    "                 'PG',\n",
    "                 'PG-13',\n",
    "                 'R',\n",
    "                 'amount_2', \n",
    "                 'length_2', \n",
    "                 'rental_rate_2',\n",
    "                 'deleted_scenes',\n",
    "                 'behind_the_scenes']]"
   ]
  },
  {
   "cell_type": "code",
   "execution_count": 8,
   "id": "2e964847-b809-47cd-b365-9b423e4985bd",
   "metadata": {},
   "outputs": [
    {
     "data": {
      "text/plain": [
       "(15861, 14)"
      ]
     },
     "execution_count": 8,
     "metadata": {},
     "output_type": "execute_result"
    }
   ],
   "source": [
    "X.shape"
   ]
  },
  {
   "cell_type": "markdown",
   "id": "981e39d8-f8f2-4e7e-ac90-7925689df2f9",
   "metadata": {},
   "source": [
    "## 5. Choose the \"rental_length_days\" as the target column and save it as a pandas Series called y."
   ]
  },
  {
   "cell_type": "code",
   "execution_count": 9,
   "id": "cf68e298-4ff2-407d-b14e-9007e71a955c",
   "metadata": {},
   "outputs": [],
   "source": [
    "y = rental_info['rental_length_days']"
   ]
  },
  {
   "cell_type": "markdown",
   "id": "9a17b040-32c4-42a8-88ea-e3622b5fffc1",
   "metadata": {},
   "source": [
    "## 6. Split the data into X_train, y_train, X_test, and y_test train and test sets, avoiding any features that leak data about the target variable, and include 20% of the total data in the test set.\n",
    "### 6.1. Set random_state to 9 whenever you use a function/method involving randomness, for example, when doing a test-train split."
   ]
  },
  {
   "cell_type": "code",
   "execution_count": 10,
   "id": "696f15b7-1429-483c-b7e5-4c53206c18e3",
   "metadata": {},
   "outputs": [],
   "source": [
    "X_train, X_test, y_train, y_test = train_test_split(X, y, test_size=0.2, random_state=9)"
   ]
  },
  {
   "cell_type": "markdown",
   "id": "2adfd998-80cb-409e-be2c-b8e2a85c9bf3",
   "metadata": {},
   "source": [
    "## 7. Recommend a model yielding a mean squared error (MSE) less than 3 on the test set: "
   ]
  },
  {
   "cell_type": "code",
   "execution_count": 11,
   "id": "0f703fe8-2513-40b3-b6e7-3a2015302bfe",
   "metadata": {},
   "outputs": [],
   "source": [
    "from sklearn.ensemble import RandomForestRegressor\n",
    "from sklearn.metrics import mean_squared_error"
   ]
  },
  {
   "cell_type": "code",
   "execution_count": 12,
   "id": "9aa4e02c-46d8-498b-aee5-c40157ddf854",
   "metadata": {},
   "outputs": [
    {
     "data": {
      "text/plain": [
       "2.0307948703942222"
      ]
     },
     "execution_count": 12,
     "metadata": {},
     "output_type": "execute_result"
    }
   ],
   "source": [
    "rfr = RandomForestRegressor()\n",
    "rfr.fit(X_train, y_train)\n",
    "y_pred = rfr.predict(X_test)\n",
    "mse = mean_squared_error(y_test, y_pred)"
   ]
  },
  {
   "cell_type": "markdown",
   "id": "525c3248-524d-4f06-8ad8-a8cdcbf196b0",
   "metadata": {},
   "source": [
    "## 8. Save the model you would recommend as a variable named best_model, and save its MSE on the test set as best_mse."
   ]
  },
  {
   "cell_type": "code",
   "execution_count": 13,
   "id": "5b3de1bc-f298-434c-a29e-84005e008e8b",
   "metadata": {},
   "outputs": [],
   "source": [
    "best_model = rfr\n",
    "best_mse = mse"
   ]
  },
  {
   "cell_type": "code",
   "execution_count": null,
   "id": "ddc6cee5-6023-4eea-a871-5476992bd221",
   "metadata": {},
   "outputs": [],
   "source": []
  }
 ],
 "metadata": {
  "colab": {
   "name": "Welcome to DataCamp Workspaces.ipynb",
   "provenance": []
  },
  "kernelspec": {
   "display_name": "Python 3 (ipykernel)",
   "language": "python",
   "name": "python3"
  },
  "language_info": {
   "codemirror_mode": {
    "name": "ipython",
    "version": 3
   },
   "file_extension": ".py",
   "mimetype": "text/x-python",
   "name": "python",
   "nbconvert_exporter": "python",
   "pygments_lexer": "ipython3",
   "version": "3.8.13"
  }
 },
 "nbformat": 4,
 "nbformat_minor": 5
}
