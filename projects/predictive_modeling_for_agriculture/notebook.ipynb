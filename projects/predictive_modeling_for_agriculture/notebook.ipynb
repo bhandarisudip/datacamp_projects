{
 "cells": [
  {
   "cell_type": "markdown",
   "id": "358f6388-0ac0-45e3-b905-a20f65027781",
   "metadata": {},
   "source": [
    "# Project: Predictive Modeling for Agriculture"
   ]
  },
  {
   "cell_type": "markdown",
   "id": "d3d001b0-2e2f-4b58-8442-99520bad831f",
   "metadata": {
    "jupyter": {
     "outputs_hidden": false,
     "source_hidden": false
    }
   },
   "source": [
    "## Sowing Success: How Machine Learning Helps Farmers Select the Best Crops\n",
    "\n",
    "Measuring essential soil metrics such as nitrogen, phosphorous, potassium levels, and pH value is an important aspect of assessing soil condition. However, it can be an expensive and time-consuming process, which can cause farmers to prioritize which metrics to measure based on their budget constraints.\n",
    "\n",
    "Farmers have various options when it comes to deciding which crop to plant each season. Their primary objective is to maximize the yield of their crops, taking into account different factors. One crucial factor that affects crop growth is the condition of the soil in the field, which can be assessed by measuring basic elements such as nitrogen and potassium levels. Each crop has an ideal soil condition that ensures optimal growth and maximum yield.\n",
    "\n",
    "A farmer reached out to you as a machine learning expert for assistance in selecting the best crop for his field. They've provided you with a dataset called `soil_measures.csv`, which contains:\n",
    "\n",
    "- `\"N\"`: Nitrogen content ratio in the soil\n",
    "- `\"P\"`: Phosphorous content ratio in the soil\n",
    "- `\"K\"`: Potassium content ratio in the soil\n",
    "- `\"pH\"` value of the soil\n",
    "- `\"crop\"`: categorical values that contain various crops (target variable).\n",
    "\n",
    "Each row in this dataset represents various measures of the soil in a particular field. Based on these measurements, the crop specified in the `\"crop\"` column is the optimal choice for that field.  \n",
    "\n",
    "In this project, you will apply machine learning to build a multi-class classification model to predict the type of `\"crop\"`, while using techniques to avoid multicollinearity, which is a concept where two or more features are highly correlated."
   ]
  },
  {
   "cell_type": "markdown",
   "id": "85e45667-0cba-4b8f-94de-63cb42df87ad",
   "metadata": {},
   "source": [
    "## Project Instructions\n",
    "Build a multi-class Logistic Regression model to predict categories of \"crop\" with a F1 score of more than 0.5.\n",
    "\n",
    "1. Read in soil_measures.csv as a pandas DataFrame and perform some data checks, such as determining the number of crops, checking for missing values, and verifying that the data in each potential feature column is numeric.\n",
    "2. Split the data into training and test sets, setting test_size equal to 20% and using a random_state of 42.\n",
    "3. Predict the \"crop\" type using each feature individually by looping over all the features, and, for each feature, fit a Logistic Regression model and calculate f1_score(). When creating the model, set max_iter to 2000 so the model can converge, and pass an appropriate string value to the multi_class keyword argument.\n",
    "4. In order to avoid selecting two features that are highly correlated, perform a correlation analysis for each pair of features, enabling you to build a final model without the presence of multicollinearity.\n",
    "5. Once you have your final features, train and test a new Logistic Regression model called log_reg, then evaluate performance using f1_score(), saving the metric as a variable called model_performance."
   ]
  },
  {
   "cell_type": "code",
   "execution_count": 1,
   "id": "b6db0a14-4093-43bf-a390-92cec830b66a",
   "metadata": {
    "executionCancelledAt": null,
    "executionTime": 13,
    "lastExecutedAt": 1703792952657,
    "lastScheduledRunId": null,
    "lastSuccessfullyExecutedCode": "X = crops[['N', 'P', 'K', 'ph']]\ny = crops[['crop']]"
   },
   "outputs": [],
   "source": [
    "# Import libraries\n",
    "import matplotlib.pyplot as plt\n",
    "import numpy as np\n",
    "import pandas as pd\n",
    "from sklearn.linear_model import LogisticRegression\n",
    "from sklearn.model_selection import train_test_split\n",
    "import seaborn as sns\n",
    "from sklearn.metrics import f1_score"
   ]
  },
  {
   "cell_type": "markdown",
   "id": "cd1c9f13-449f-40fe-853c-0a1d51fd2057",
   "metadata": {},
   "source": [
    "### 1. Read in soil_measures.csv as a pandas DataFrame and perform some data checks, such as determining the number of crops, checking for missing values, and verifying that the data in each potential feature column is numeric."
   ]
  },
  {
   "cell_type": "code",
   "execution_count": 2,
   "id": "ffc6fa05-37de-44dc-95fa-2d8441c9bc26",
   "metadata": {},
   "outputs": [],
   "source": [
    "# Load the dataset\n",
    "crops = pd.read_csv(\"soil_measures.csv\")"
   ]
  },
  {
   "cell_type": "code",
   "execution_count": 3,
   "id": "185740cb-9b6d-42ae-81a6-8bc0203d5cb4",
   "metadata": {},
   "outputs": [
    {
     "data": {
      "text/html": [
       "<div>\n",
       "<style scoped>\n",
       "    .dataframe tbody tr th:only-of-type {\n",
       "        vertical-align: middle;\n",
       "    }\n",
       "\n",
       "    .dataframe tbody tr th {\n",
       "        vertical-align: top;\n",
       "    }\n",
       "\n",
       "    .dataframe thead th {\n",
       "        text-align: right;\n",
       "    }\n",
       "</style>\n",
       "<table border=\"1\" class=\"dataframe\">\n",
       "  <thead>\n",
       "    <tr style=\"text-align: right;\">\n",
       "      <th></th>\n",
       "      <th>N</th>\n",
       "      <th>P</th>\n",
       "      <th>K</th>\n",
       "      <th>ph</th>\n",
       "      <th>crop</th>\n",
       "    </tr>\n",
       "  </thead>\n",
       "  <tbody>\n",
       "    <tr>\n",
       "      <th>0</th>\n",
       "      <td>90</td>\n",
       "      <td>42</td>\n",
       "      <td>43</td>\n",
       "      <td>6.502985</td>\n",
       "      <td>rice</td>\n",
       "    </tr>\n",
       "    <tr>\n",
       "      <th>1</th>\n",
       "      <td>85</td>\n",
       "      <td>58</td>\n",
       "      <td>41</td>\n",
       "      <td>7.038096</td>\n",
       "      <td>rice</td>\n",
       "    </tr>\n",
       "    <tr>\n",
       "      <th>2</th>\n",
       "      <td>60</td>\n",
       "      <td>55</td>\n",
       "      <td>44</td>\n",
       "      <td>7.840207</td>\n",
       "      <td>rice</td>\n",
       "    </tr>\n",
       "    <tr>\n",
       "      <th>3</th>\n",
       "      <td>74</td>\n",
       "      <td>35</td>\n",
       "      <td>40</td>\n",
       "      <td>6.980401</td>\n",
       "      <td>rice</td>\n",
       "    </tr>\n",
       "    <tr>\n",
       "      <th>4</th>\n",
       "      <td>78</td>\n",
       "      <td>42</td>\n",
       "      <td>42</td>\n",
       "      <td>7.628473</td>\n",
       "      <td>rice</td>\n",
       "    </tr>\n",
       "  </tbody>\n",
       "</table>\n",
       "</div>"
      ],
      "text/plain": [
       "    N   P   K        ph  crop\n",
       "0  90  42  43  6.502985  rice\n",
       "1  85  58  41  7.038096  rice\n",
       "2  60  55  44  7.840207  rice\n",
       "3  74  35  40  6.980401  rice\n",
       "4  78  42  42  7.628473  rice"
      ]
     },
     "execution_count": 3,
     "metadata": {},
     "output_type": "execute_result"
    }
   ],
   "source": [
    "# Check the first five rows\n",
    "crops.head()"
   ]
  },
  {
   "cell_type": "code",
   "execution_count": 4,
   "id": "37cfb871-a2cb-46f7-9fa7-eb9be116c30a",
   "metadata": {},
   "outputs": [
    {
     "data": {
      "text/plain": [
       "(2200, 5)"
      ]
     },
     "execution_count": 4,
     "metadata": {},
     "output_type": "execute_result"
    }
   ],
   "source": [
    "# Check the shape of the dataframe\n",
    "crops.shape"
   ]
  },
  {
   "cell_type": "code",
   "execution_count": 5,
   "id": "bf87a8d2-8432-4ca9-8b2b-ddc209124b9c",
   "metadata": {},
   "outputs": [
    {
     "data": {
      "text/plain": [
       "22"
      ]
     },
     "execution_count": 5,
     "metadata": {},
     "output_type": "execute_result"
    }
   ],
   "source": [
    "# Determine the number of unique crops\n",
    "crops['crop'].nunique()"
   ]
  },
  {
   "cell_type": "code",
   "execution_count": 6,
   "id": "ac90dd96-17cf-4c7c-8cd1-6a9fa638ccbe",
   "metadata": {},
   "outputs": [
    {
     "data": {
      "text/plain": [
       "N       0\n",
       "P       0\n",
       "K       0\n",
       "ph      0\n",
       "crop    0\n",
       "dtype: int64"
      ]
     },
     "execution_count": 6,
     "metadata": {},
     "output_type": "execute_result"
    }
   ],
   "source": [
    "# Check for missing values\n",
    "crops.isna().sum()"
   ]
  },
  {
   "cell_type": "code",
   "execution_count": 7,
   "id": "1a0c3864-794e-4244-a1fd-799bcd9bfb87",
   "metadata": {},
   "outputs": [
    {
     "name": "stdout",
     "output_type": "stream",
     "text": [
      "<class 'pandas.core.frame.DataFrame'>\n",
      "RangeIndex: 2200 entries, 0 to 2199\n",
      "Data columns (total 5 columns):\n",
      " #   Column  Non-Null Count  Dtype  \n",
      "---  ------  --------------  -----  \n",
      " 0   N       2200 non-null   int64  \n",
      " 1   P       2200 non-null   int64  \n",
      " 2   K       2200 non-null   int64  \n",
      " 3   ph      2200 non-null   float64\n",
      " 4   crop    2200 non-null   object \n",
      "dtypes: float64(1), int64(3), object(1)\n",
      "memory usage: 86.1+ KB\n"
     ]
    }
   ],
   "source": [
    "# Verify that the data in each potential feature column is numeric\n",
    "crops.info()"
   ]
  },
  {
   "cell_type": "markdown",
   "id": "5ba3349d-f127-4082-a3ad-87f0f8847cbb",
   "metadata": {},
   "source": [
    "### 2. Split the data into training and test sets, setting test_size equal to 20% and using a random_state of 42."
   ]
  },
  {
   "cell_type": "code",
   "execution_count": 8,
   "id": "67b21b14-eedb-4799-b00c-0a5e837b1ce9",
   "metadata": {},
   "outputs": [],
   "source": [
    "X_train, X_test, y_train, y_true = train_test_split(\n",
    "    crops[['N', 'P', 'K', 'ph']], \n",
    "    crops['crop'], \n",
    "    test_size=0.2, \n",
    "    random_state=42)"
   ]
  },
  {
   "cell_type": "markdown",
   "id": "6846d2a5-ca5f-4f13-831d-a90af2550a4a",
   "metadata": {},
   "source": [
    "### 3. Predict the \"crop\" type using each feature individually by looping over all the features, and, for each feature, fit a Logistic Regression model and calculate f1_score(). When creating the model, set max_iter to 2000 so the model can converge, and pass an appropriate string value to the multi_class keyword argument."
   ]
  },
  {
   "cell_type": "code",
   "execution_count": 9,
   "id": "dbfd7b1f-283f-4be2-b29d-d9984d56031f",
   "metadata": {},
   "outputs": [],
   "source": [
    "# Define the model\n",
    "log_reg = LogisticRegression(\n",
    "    max_iter=2000, \n",
    "    multi_class='multinomial')"
   ]
  },
  {
   "cell_type": "code",
   "execution_count": 10,
   "id": "eaf63885-4f85-4197-9c4f-0e78ff478a5e",
   "metadata": {},
   "outputs": [
    {
     "name": "stdout",
     "output_type": "stream",
     "text": [
      "F1-score for N: 0.15\n"
     ]
    },
    {
     "name": "stderr",
     "output_type": "stream",
     "text": [
      "/Users/sudipbhandari/Library/jupyterlab-desktop/jlab_server/lib/python3.8/site-packages/sklearn/linear_model/_logistic.py:458: ConvergenceWarning: lbfgs failed to converge (status=1):\n",
      "STOP: TOTAL NO. of ITERATIONS REACHED LIMIT.\n",
      "\n",
      "Increase the number of iterations (max_iter) or scale the data as shown in:\n",
      "    https://scikit-learn.org/stable/modules/preprocessing.html\n",
      "Please also refer to the documentation for alternative solver options:\n",
      "    https://scikit-learn.org/stable/modules/linear_model.html#logistic-regression\n",
      "  n_iter_i = _check_optimize_result(\n"
     ]
    },
    {
     "name": "stdout",
     "output_type": "stream",
     "text": [
      "F1-score for P: 0.18636363636363637\n",
      "F1-score for K: 0.24772727272727274\n",
      "F1-score for ph: 0.09772727272727273\n"
     ]
    },
    {
     "name": "stderr",
     "output_type": "stream",
     "text": [
      "/Users/sudipbhandari/Library/jupyterlab-desktop/jlab_server/lib/python3.8/site-packages/sklearn/linear_model/_logistic.py:458: ConvergenceWarning: lbfgs failed to converge (status=1):\n",
      "STOP: TOTAL NO. of ITERATIONS REACHED LIMIT.\n",
      "\n",
      "Increase the number of iterations (max_iter) or scale the data as shown in:\n",
      "    https://scikit-learn.org/stable/modules/preprocessing.html\n",
      "Please also refer to the documentation for alternative solver options:\n",
      "    https://scikit-learn.org/stable/modules/linear_model.html#logistic-regression\n",
      "  n_iter_i = _check_optimize_result(\n"
     ]
    }
   ],
   "source": [
    "# Train the model for each feature\n",
    "for feature in X_train.columns: \n",
    "    log_reg.fit(X_train[[feature]], y_train)\n",
    "    y_pred = log_reg.predict(X_test[[feature]])\n",
    "    f1 = f1_score(y_true, y_pred, average='micro')\n",
    "    print(f'F1-score for {feature}: {f1}')"
   ]
  },
  {
   "cell_type": "markdown",
   "id": "06bcc369-b303-49a9-bc36-7df1111dd385",
   "metadata": {},
   "source": [
    "### 4. In order to avoid selecting two features that are highly correlated, perform a correlation analysis for each pair of features, enabling you to build a final model without the presence of multicollinearity."
   ]
  },
  {
   "cell_type": "code",
   "execution_count": 11,
   "id": "3d337292-b6d5-43ac-85b0-3c689ff3b0f3",
   "metadata": {},
   "outputs": [],
   "source": [
    "# Calculate correlation matrix \n",
    "crops_corr = crops[['N', 'P', 'K', 'ph']].corr()"
   ]
  },
  {
   "cell_type": "code",
   "execution_count": 15,
   "id": "fc5e11be-8e9b-4563-ac91-e3d64cd75ceb",
   "metadata": {},
   "outputs": [],
   "source": [
    "# Create a matrix of ones that is the same shape as the crops_corr\n",
    "one_matrix = np.ones_like(crops_corr, dtype='bool')\n",
    "\n",
    "# Create boolean a mask that only keeps the elements above the k-th diagnonal intact.\n",
    "# In this case, elements below the the bool mask are zeroed, i.e., False. \n",
    "bool_mask = np.triu(one_matrix, 1)"
   ]
  },
  {
   "cell_type": "code",
   "execution_count": 16,
   "id": "03d7f3a7-83d1-4520-9e66-a97ec51cf30d",
   "metadata": {},
   "outputs": [
    {
     "data": {
      "text/plain": [
       "<AxesSubplot:>"
      ]
     },
     "execution_count": 16,
     "metadata": {},
     "output_type": "execute_result"
    },
    {
     "data": {
      "image/png": "[encoded data removed]",
      "text/plain": [
       "<Figure size 640x480 with 2 Axes>"
      ]
     },
     "metadata": {},
     "output_type": "display_data"
    }
   ],
   "source": [
    "# Generate a heatmap of the correlation analysis, apply the mask\n",
    "# Note that for sns.heatmap, passing a 'mask' means data will NOT be shown in cells where the mask is True.\n",
    "sns.heatmap(crops_corr, cmap='Blues', annot=True, mask=bool_mask)"
   ]
  },
  {
   "cell_type": "markdown",
   "id": "d5089118-f587-4937-bdea-80049e3f92d7",
   "metadata": {},
   "source": [
    "### 5. Once you have your final features, train and test a new Logistic Regression model called log_reg, then evaluate performance using f1_score(), saving the metric as a variable called model_performance."
   ]
  },
  {
   "cell_type": "code",
   "execution_count": 17,
   "id": "2fc70154-c26d-416c-854e-19ee44a47be3",
   "metadata": {},
   "outputs": [],
   "source": [
    "# Select the final features for the model\n",
    "final_features = ['N', 'K', 'ph']"
   ]
  },
  {
   "cell_type": "code",
   "execution_count": 18,
   "id": "4954fec9-8c7e-4769-bfe9-f159b43391c7",
   "metadata": {},
   "outputs": [
    {
     "name": "stdout",
     "output_type": "stream",
     "text": [
      "0.575\n"
     ]
    },
    {
     "name": "stderr",
     "output_type": "stream",
     "text": [
      "/Users/sudipbhandari/Library/jupyterlab-desktop/jlab_server/lib/python3.8/site-packages/sklearn/linear_model/_logistic.py:458: ConvergenceWarning: lbfgs failed to converge (status=1):\n",
      "STOP: TOTAL NO. of ITERATIONS REACHED LIMIT.\n",
      "\n",
      "Increase the number of iterations (max_iter) or scale the data as shown in:\n",
      "    https://scikit-learn.org/stable/modules/preprocessing.html\n",
      "Please also refer to the documentation for alternative solver options:\n",
      "    https://scikit-learn.org/stable/modules/linear_model.html#logistic-regression\n",
      "  n_iter_i = _check_optimize_result(\n"
     ]
    }
   ],
   "source": [
    "# Train model and evaluate performance\n",
    "log_reg.fit(X_train[final_features], y_train)\n",
    "y_pred = log_reg.predict(X_test[final_features])\n",
    "model_performance = f1_score(y_true, y_pred, average='micro')\n",
    "\n",
    "print(model_performance)"
   ]
  },
  {
   "cell_type": "code",
   "execution_count": null,
   "id": "95230495-556e-43a1-b7e9-64623bf2ff41",
   "metadata": {},
   "outputs": [],
   "source": []
  }
 ],
 "metadata": {
  "colab": {
   "name": "Welcome to DataCamp Workspaces.ipynb",
   "provenance": []
  },
  "kernelspec": {
   "display_name": "Python 3 (ipykernel)",
   "language": "python",
   "name": "python3"
  },
  "language_info": {
   "codemirror_mode": {
    "name": "ipython",
    "version": 3
   },
   "file_extension": ".py",
   "mimetype": "text/x-python",
   "name": "python",
   "nbconvert_exporter": "python",
   "pygments_lexer": "ipython3",
   "version": "3.8.13"
  }
 },
 "nbformat": 4,
 "nbformat_minor": 5
}
