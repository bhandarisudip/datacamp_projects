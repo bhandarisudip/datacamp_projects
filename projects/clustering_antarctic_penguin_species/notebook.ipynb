{
 "cells": [
  {
   "cell_type": "markdown",
   "id": "b4d5579a-4a17-4fea-88fa-753734607995",
   "metadata": {},
   "source": [
    "# Arctic Penguin Exploration: Unraveling Clusters in the Icy Domain with K-means clustering"
   ]
  },
  {
   "cell_type": "markdown",
   "id": "589fe37e-e764-4d71-9c3c-93c8b7acee79",
   "metadata": {},
   "source": [
    "![Alt text](https://imgur.com/orZWHly.png)\n",
    "source: @allison_horst https://github.com/allisonhorst/penguins"
   ]
  },
  {
   "cell_type": "markdown",
   "id": "d3fb84f2-0eda-4b73-95c0-5364f83e25bf",
   "metadata": {},
   "source": [
    "You have been asked to support a team of researchers who have been collecting data about penguins in Antartica! \n",
    "\n",
    "**Origin of this data** : Data were collected and made available by Dr. Kristen Gorman and the Palmer Station, Antarctica LTER, a member of the Long Term Ecological Research Network.\n",
    "\n",
    "**The dataset consists of 5 columns.**\n",
    "\n",
    "- culmen_length_mm: culmen length (mm)\n",
    "- culmen_depth_mm: culmen depth (mm)\n",
    "- flipper_length_mm: flipper length (mm)\n",
    "- body_mass_g: body mass (g)\n",
    "- sex: penguin sex\n",
    "\n",
    "Unfortunately, they have not been able to record the species of penguin, but they know that there are three species that are native to the region: **Adelie**, **Chinstrap**, and **Gentoo**, so your task is to apply your data science skills to help them identify groups in the dataset!"
   ]
  },
  {
   "cell_type": "markdown",
   "id": "767af4ef-22fe-42ac-8981-e05d45b0c3fa",
   "metadata": {},
   "source": [
    "# Project Instructions: Utilize your unsupervised learning skills to reduce dimensionality and identify clusters in the penguins dataset!\n",
    "\n",
    "1. Begin by reading in \"data/penguins.csv\" as a pandas DataFrame called penguins_df, then investigate and clean the dataset by removing the null values and outliers. Save as a cleaned DataFrame called penguins_clean.\n",
    "2. Pre-process the cleaned data using standard scaling and the one-hot encoding to add dummy variables:\n",
    "    1. Create the dummy variables and remove the original categorical feature from the dataset.\n",
    "    1. Scale the data using the standard scaling method.\n",
    "    1. Save the updated data as a new DataFrame called penguins_preprocessed.\n",
    "1. Perform Principal Component Analysis (PCA) on the penguins_preprocessed dataset to determine the desired number of components, considering any component with an explained variance ratio above 10% as a suitable component. Save the number of components as a variable called n_components.\n",
    "    1. Finally, execute PCA using n_components and store the result as penguins_PCA.\n",
    "1. Employ k-means clustering on the penguins_PCA dataset, setting random_state=42, to determine the number of clusters through elbow analysis. Save the optimal number of clusters in a variable called n_cluster.\n",
    "1. Create and fit a new k-means cluster model, setting n_cluster equal to your n_cluster variable, saving the model as a variable called kmeans.\n",
    "    1. Visualize your clusters using the first two principle components.\n",
    "6. Add the label column extracted from the k-means clustering (using kmeans.labels_) to the penguins_clean DataFrame.\n",
    "7. Create a statistical table by grouping penguins_clean based on the \"label\" column and calculating the mean of each numeric column. Save this table as stat_penguins."
   ]
  },
  {
   "cell_type": "code",
   "execution_count": 142,
   "id": "57295d13-5753-4f8d-aa96-cd6815f7cbd9",
   "metadata": {
    "executionCancelledAt": null,
    "executionTime": 3159,
    "lastExecutedAt": 1687439857183,
    "lastScheduledRunId": null,
    "lastSuccessfullyExecutedCode": "#Import Required Packages\n\nimport pandas as pd\nimport matplotlib.pyplot as plt\nfrom sklearn.decomposition import PCA\nfrom sklearn.cluster import KMeans\nfrom sklearn.preprocessing import StandardScaler\n\n# Loading and examining the dataset\npenguins_df = pd.read_csv(\"data/penguins.csv\")"
   },
   "outputs": [],
   "source": [
    "# Import Required Packages\n",
    "import pandas as pd\n",
    "import matplotlib.pyplot as plt\n",
    "import seaborn as sns\n",
    "from sklearn.decomposition import PCA\n",
    "from sklearn.cluster import KMeans\n",
    "from sklearn.preprocessing import StandardScaler"
   ]
  },
  {
   "cell_type": "markdown",
   "id": "877e0ab2-f787-4bb4-8808-d3b36f81aed5",
   "metadata": {},
   "source": [
    "## 1. Begin by reading in \"data/penguins.csv\" as a pandas DataFrame called penguins_df, then investigate and clean the dataset by removing the null values and outliers. Save as a cleaned DataFrame called penguins_clean.\n"
   ]
  },
  {
   "cell_type": "code",
   "execution_count": 143,
   "id": "24002504-461a-4b6d-998a-a8f115f508d4",
   "metadata": {},
   "outputs": [],
   "source": [
    "# Loading the dataset\n",
    "penguins_df = pd.read_csv(\"penguins.csv\")"
   ]
  },
  {
   "cell_type": "code",
   "execution_count": 144,
   "id": "74b304bf-354b-4ff5-a1a5-77fa862d4f1e",
   "metadata": {},
   "outputs": [
    {
     "data": {
      "text/plain": [
       "(344, 5)"
      ]
     },
     "execution_count": 144,
     "metadata": {},
     "output_type": "execute_result"
    }
   ],
   "source": [
    "# Investigate the dataset \n",
    "# Identify shape of the dataset\n",
    "penguins_df.shape"
   ]
  },
  {
   "cell_type": "code",
   "execution_count": 145,
   "id": "ffd09103-daa3-4c92-8588-998cf5dffcb8",
   "metadata": {},
   "outputs": [
    {
     "data": {
      "text/html": [
       "<div>\n",
       "<style scoped>\n",
       "    .dataframe tbody tr th:only-of-type {\n",
       "        vertical-align: middle;\n",
       "    }\n",
       "\n",
       "    .dataframe tbody tr th {\n",
       "        vertical-align: top;\n",
       "    }\n",
       "\n",
       "    .dataframe thead th {\n",
       "        text-align: right;\n",
       "    }\n",
       "</style>\n",
       "<table border=\"1\" class=\"dataframe\">\n",
       "  <thead>\n",
       "    <tr style=\"text-align: right;\">\n",
       "      <th></th>\n",
       "      <th>culmen_length_mm</th>\n",
       "      <th>culmen_depth_mm</th>\n",
       "      <th>flipper_length_mm</th>\n",
       "      <th>body_mass_g</th>\n",
       "      <th>sex</th>\n",
       "    </tr>\n",
       "  </thead>\n",
       "  <tbody>\n",
       "    <tr>\n",
       "      <th>0</th>\n",
       "      <td>39.1</td>\n",
       "      <td>18.7</td>\n",
       "      <td>181.0</td>\n",
       "      <td>3750.0</td>\n",
       "      <td>MALE</td>\n",
       "    </tr>\n",
       "    <tr>\n",
       "      <th>1</th>\n",
       "      <td>39.5</td>\n",
       "      <td>17.4</td>\n",
       "      <td>186.0</td>\n",
       "      <td>3800.0</td>\n",
       "      <td>FEMALE</td>\n",
       "    </tr>\n",
       "    <tr>\n",
       "      <th>2</th>\n",
       "      <td>40.3</td>\n",
       "      <td>18.0</td>\n",
       "      <td>195.0</td>\n",
       "      <td>3250.0</td>\n",
       "      <td>FEMALE</td>\n",
       "    </tr>\n",
       "    <tr>\n",
       "      <th>3</th>\n",
       "      <td>NaN</td>\n",
       "      <td>NaN</td>\n",
       "      <td>NaN</td>\n",
       "      <td>NaN</td>\n",
       "      <td>NaN</td>\n",
       "    </tr>\n",
       "    <tr>\n",
       "      <th>4</th>\n",
       "      <td>36.7</td>\n",
       "      <td>19.3</td>\n",
       "      <td>193.0</td>\n",
       "      <td>3450.0</td>\n",
       "      <td>FEMALE</td>\n",
       "    </tr>\n",
       "  </tbody>\n",
       "</table>\n",
       "</div>"
      ],
      "text/plain": [
       "   culmen_length_mm  culmen_depth_mm  flipper_length_mm  body_mass_g     sex\n",
       "0              39.1             18.7              181.0       3750.0    MALE\n",
       "1              39.5             17.4              186.0       3800.0  FEMALE\n",
       "2              40.3             18.0              195.0       3250.0  FEMALE\n",
       "3               NaN              NaN                NaN          NaN     NaN\n",
       "4              36.7             19.3              193.0       3450.0  FEMALE"
      ]
     },
     "execution_count": 145,
     "metadata": {},
     "output_type": "execute_result"
    }
   ],
   "source": [
    "# See the first 5 rows of the dataset\n",
    "penguins_df.head()"
   ]
  },
  {
   "cell_type": "code",
   "execution_count": 146,
   "id": "8d6f2d50-4155-40ac-8948-859cc4155eba",
   "metadata": {},
   "outputs": [
    {
     "name": "stdout",
     "output_type": "stream",
     "text": [
      "<class 'pandas.core.frame.DataFrame'>\n",
      "RangeIndex: 344 entries, 0 to 343\n",
      "Data columns (total 5 columns):\n",
      " #   Column             Non-Null Count  Dtype  \n",
      "---  ------             --------------  -----  \n",
      " 0   culmen_length_mm   342 non-null    float64\n",
      " 1   culmen_depth_mm    342 non-null    float64\n",
      " 2   flipper_length_mm  342 non-null    float64\n",
      " 3   body_mass_g        342 non-null    float64\n",
      " 4   sex                335 non-null    object \n",
      "dtypes: float64(4), object(1)\n",
      "memory usage: 13.6+ KB\n"
     ]
    }
   ],
   "source": [
    "# More information about the dataset\n",
    "penguins_df.info()"
   ]
  },
  {
   "cell_type": "code",
   "execution_count": 147,
   "id": "e5c96736-0b29-454f-8002-f141ecc2c278",
   "metadata": {},
   "outputs": [
    {
     "data": {
      "text/plain": [
       "culmen_length_mm     2\n",
       "culmen_depth_mm      2\n",
       "flipper_length_mm    2\n",
       "body_mass_g          2\n",
       "sex                  9\n",
       "dtype: int64"
      ]
     },
     "execution_count": 147,
     "metadata": {},
     "output_type": "execute_result"
    }
   ],
   "source": [
    "# Count the number of missing values for each feature\n",
    "penguins_df.isna().sum()"
   ]
  },
  {
   "cell_type": "code",
   "execution_count": 148,
   "id": "b4f5924f-e8b0-419c-8384-7c1cea7cea06",
   "metadata": {},
   "outputs": [],
   "source": [
    "# Remove the null values\n",
    "penguins_df_nonull = penguins_df.dropna(how='any')"
   ]
  },
  {
   "cell_type": "code",
   "execution_count": 149,
   "id": "d2722625-71db-4744-ac53-35cf6ef2a064",
   "metadata": {},
   "outputs": [
    {
     "data": {
      "text/plain": [
       "MALE      169\n",
       "FEMALE    165\n",
       ".           1\n",
       "Name: sex, dtype: int64"
      ]
     },
     "execution_count": 149,
     "metadata": {},
     "output_type": "execute_result"
    }
   ],
   "source": [
    "# Count the values for sex for any abberant entries\n",
    "penguins_df_nonull['sex'].value_counts()"
   ]
  },
  {
   "cell_type": "code",
   "execution_count": 150,
   "id": "e1f5c6c2-9345-46a7-be45-d459c914b0ff",
   "metadata": {},
   "outputs": [],
   "source": [
    "# Remove '.' from the sex column\n",
    "mask = penguins_df_nonull['sex'] == '.'\n",
    "penguins_df_nonull_noabberant = penguins_df_nonull[~mask]"
   ]
  },
  {
   "cell_type": "code",
   "execution_count": 151,
   "id": "b61ce23c-c2c1-41f8-adcd-8024b0da9b9d",
   "metadata": {},
   "outputs": [
    {
     "data": {
      "image/png": "[encoded data removed]",
      "text/plain": [
       "<Figure size 400x500 with 1 Axes>"
      ]
     },
     "metadata": {},
     "output_type": "display_data"
    },
    {
     "data": {
      "image/png": "[encoded data removed]",
      "text/plain": [
       "<Figure size 400x500 with 1 Axes>"
      ]
     },
     "metadata": {},
     "output_type": "display_data"
    },
    {
     "data": {
      "image/png": "[encoded data removed]",
      "text/plain": [
       "<Figure size 400x500 with 1 Axes>"
      ]
     },
     "metadata": {},
     "output_type": "display_data"
    },
    {
     "data": {
      "image/png": "[encoded data removed]",
      "text/plain": [
       "<Figure size 400x500 with 1 Axes>"
      ]
     },
     "metadata": {},
     "output_type": "display_data"
    }
   ],
   "source": [
    "# Check for outliers\n",
    "for col in penguins_df_nonull_noabberant.drop(['sex'], axis=1).columns:\n",
    "    plt.figure(figsize=(4, 5)) \n",
    "    sns.boxplot(y=penguins_df_nonull_noabberant[col]).set_title(f'Boxplot of {col}')"
   ]
  },
  {
   "cell_type": "markdown",
   "id": "2df33614-d53f-4d6a-b6c0-f1a2807e1cb3",
   "metadata": {},
   "source": [
    "Based on the above plots, it looks like flipper_length_mm has outliers"
   ]
  },
  {
   "cell_type": "code",
   "execution_count": 152,
   "id": "8b16fec3-715b-418f-a1dd-704e9b55adb0",
   "metadata": {},
   "outputs": [
    {
     "data": {
      "text/html": [
       "<div>\n",
       "<style scoped>\n",
       "    .dataframe tbody tr th:only-of-type {\n",
       "        vertical-align: middle;\n",
       "    }\n",
       "\n",
       "    .dataframe tbody tr th {\n",
       "        vertical-align: top;\n",
       "    }\n",
       "\n",
       "    .dataframe thead th {\n",
       "        text-align: right;\n",
       "    }\n",
       "</style>\n",
       "<table border=\"1\" class=\"dataframe\">\n",
       "  <thead>\n",
       "    <tr style=\"text-align: right;\">\n",
       "      <th></th>\n",
       "      <th>culmen_length_mm</th>\n",
       "      <th>culmen_depth_mm</th>\n",
       "      <th>flipper_length_mm</th>\n",
       "      <th>body_mass_g</th>\n",
       "    </tr>\n",
       "  </thead>\n",
       "  <tbody>\n",
       "    <tr>\n",
       "      <th>count</th>\n",
       "      <td>334.000000</td>\n",
       "      <td>334.000000</td>\n",
       "      <td>334.000000</td>\n",
       "      <td>334.000000</td>\n",
       "    </tr>\n",
       "    <tr>\n",
       "      <th>mean</th>\n",
       "      <td>43.986826</td>\n",
       "      <td>17.173952</td>\n",
       "      <td>214.347305</td>\n",
       "      <td>4207.185629</td>\n",
       "    </tr>\n",
       "    <tr>\n",
       "      <th>std</th>\n",
       "      <td>5.461540</td>\n",
       "      <td>1.973277</td>\n",
       "      <td>263.648447</td>\n",
       "      <td>804.009294</td>\n",
       "    </tr>\n",
       "    <tr>\n",
       "      <th>min</th>\n",
       "      <td>32.100000</td>\n",
       "      <td>13.100000</td>\n",
       "      <td>-132.000000</td>\n",
       "      <td>2700.000000</td>\n",
       "    </tr>\n",
       "    <tr>\n",
       "      <th>25%</th>\n",
       "      <td>39.500000</td>\n",
       "      <td>15.600000</td>\n",
       "      <td>190.000000</td>\n",
       "      <td>3550.000000</td>\n",
       "    </tr>\n",
       "    <tr>\n",
       "      <th>50%</th>\n",
       "      <td>44.450000</td>\n",
       "      <td>17.300000</td>\n",
       "      <td>197.000000</td>\n",
       "      <td>4050.000000</td>\n",
       "    </tr>\n",
       "    <tr>\n",
       "      <th>75%</th>\n",
       "      <td>48.575000</td>\n",
       "      <td>18.700000</td>\n",
       "      <td>213.000000</td>\n",
       "      <td>4768.750000</td>\n",
       "    </tr>\n",
       "    <tr>\n",
       "      <th>max</th>\n",
       "      <td>59.600000</td>\n",
       "      <td>21.500000</td>\n",
       "      <td>5000.000000</td>\n",
       "      <td>6300.000000</td>\n",
       "    </tr>\n",
       "  </tbody>\n",
       "</table>\n",
       "</div>"
      ],
      "text/plain": [
       "       culmen_length_mm  culmen_depth_mm  flipper_length_mm  body_mass_g\n",
       "count        334.000000       334.000000         334.000000   334.000000\n",
       "mean          43.986826        17.173952         214.347305  4207.185629\n",
       "std            5.461540         1.973277         263.648447   804.009294\n",
       "min           32.100000        13.100000        -132.000000  2700.000000\n",
       "25%           39.500000        15.600000         190.000000  3550.000000\n",
       "50%           44.450000        17.300000         197.000000  4050.000000\n",
       "75%           48.575000        18.700000         213.000000  4768.750000\n",
       "max           59.600000        21.500000        5000.000000  6300.000000"
      ]
     },
     "execution_count": 152,
     "metadata": {},
     "output_type": "execute_result"
    }
   ],
   "source": [
    "# Look at the numerical values to confirm the observation based on the boxplots above\n",
    "penguins_df_nonull_noabberant.describe()"
   ]
  },
  {
   "cell_type": "markdown",
   "id": "051242e7-7a06-4c48-ad43-c0f7f7a7815a",
   "metadata": {},
   "source": [
    "Flipper length has negative values, which is impossible. Also, the maximum value for that column is abnormally large, many standard deviations away. So, safe to drop these values from the column."
   ]
  },
  {
   "cell_type": "code",
   "execution_count": 153,
   "id": "e6dd77af-07e1-4e02-8708-42b3254085d4",
   "metadata": {},
   "outputs": [],
   "source": [
    "# Calculate the outliers mathematically\n",
    "\n",
    "# Calculate the first and the third quartile\n",
    "flipper_length_q1 = penguins_df_nonull_noabberant['flipper_length_mm'].quantile(0.25) \n",
    "flipper_length_q3 = penguins_df_nonull_noabberant['flipper_length_mm'].quantile(0.75)\n",
    "\n",
    "# Calculate inter-quartile region\n",
    "flipper_length_iqr = flipper_length_q3-flipper_length_q1\n",
    "\n",
    "# Find the upper and lower extremes\n",
    "upper_extreme = flipper_length_q3 + (flipper_length_iqr*1.5)\n",
    "lower_extreme = flipper_length_q1 - (flipper_length_iqr*1.5)"
   ]
  },
  {
   "cell_type": "code",
   "execution_count": 154,
   "id": "2c540a54-996c-4d7f-81cb-7fee8c6623ef",
   "metadata": {},
   "outputs": [
    {
     "data": {
      "text/html": [
       "<div>\n",
       "<style scoped>\n",
       "    .dataframe tbody tr th:only-of-type {\n",
       "        vertical-align: middle;\n",
       "    }\n",
       "\n",
       "    .dataframe tbody tr th {\n",
       "        vertical-align: top;\n",
       "    }\n",
       "\n",
       "    .dataframe thead th {\n",
       "        text-align: right;\n",
       "    }\n",
       "</style>\n",
       "<table border=\"1\" class=\"dataframe\">\n",
       "  <thead>\n",
       "    <tr style=\"text-align: right;\">\n",
       "      <th></th>\n",
       "      <th>culmen_length_mm</th>\n",
       "      <th>culmen_depth_mm</th>\n",
       "      <th>flipper_length_mm</th>\n",
       "      <th>body_mass_g</th>\n",
       "      <th>sex</th>\n",
       "    </tr>\n",
       "  </thead>\n",
       "  <tbody>\n",
       "    <tr>\n",
       "      <th>14</th>\n",
       "      <td>34.6</td>\n",
       "      <td>21.1</td>\n",
       "      <td>-132.0</td>\n",
       "      <td>4400.0</td>\n",
       "      <td>MALE</td>\n",
       "    </tr>\n",
       "  </tbody>\n",
       "</table>\n",
       "</div>"
      ],
      "text/plain": [
       "    culmen_length_mm  culmen_depth_mm  flipper_length_mm  body_mass_g   sex\n",
       "14              34.6             21.1             -132.0       4400.0  MALE"
      ]
     },
     "execution_count": 154,
     "metadata": {},
     "output_type": "execute_result"
    }
   ],
   "source": [
    "# Identify outliers--any point below lower extreme\n",
    "penguins_df_nonull_noabberant[penguins_df_nonull_noabberant['flipper_length_mm']<lower_extreme]"
   ]
  },
  {
   "cell_type": "code",
   "execution_count": 155,
   "id": "3d427fc2-9e3c-404b-ae38-21f6da0d1245",
   "metadata": {},
   "outputs": [
    {
     "data": {
      "text/html": [
       "<div>\n",
       "<style scoped>\n",
       "    .dataframe tbody tr th:only-of-type {\n",
       "        vertical-align: middle;\n",
       "    }\n",
       "\n",
       "    .dataframe tbody tr th {\n",
       "        vertical-align: top;\n",
       "    }\n",
       "\n",
       "    .dataframe thead th {\n",
       "        text-align: right;\n",
       "    }\n",
       "</style>\n",
       "<table border=\"1\" class=\"dataframe\">\n",
       "  <thead>\n",
       "    <tr style=\"text-align: right;\">\n",
       "      <th></th>\n",
       "      <th>culmen_length_mm</th>\n",
       "      <th>culmen_depth_mm</th>\n",
       "      <th>flipper_length_mm</th>\n",
       "      <th>body_mass_g</th>\n",
       "      <th>sex</th>\n",
       "    </tr>\n",
       "  </thead>\n",
       "  <tbody>\n",
       "    <tr>\n",
       "      <th>9</th>\n",
       "      <td>42.0</td>\n",
       "      <td>20.2</td>\n",
       "      <td>5000.0</td>\n",
       "      <td>4250.0</td>\n",
       "      <td>MALE</td>\n",
       "    </tr>\n",
       "  </tbody>\n",
       "</table>\n",
       "</div>"
      ],
      "text/plain": [
       "   culmen_length_mm  culmen_depth_mm  flipper_length_mm  body_mass_g   sex\n",
       "9              42.0             20.2             5000.0       4250.0  MALE"
      ]
     },
     "execution_count": 155,
     "metadata": {},
     "output_type": "execute_result"
    }
   ],
   "source": [
    "# Identify outliers--any point above upper extreme\n",
    "penguins_df_nonull_noabberant[penguins_df_nonull_noabberant['flipper_length_mm']>upper_extreme]"
   ]
  },
  {
   "cell_type": "code",
   "execution_count": 197,
   "id": "014f31b3-3cb6-4f6e-b0c4-c2f29ab5fa59",
   "metadata": {},
   "outputs": [],
   "source": [
    "# Remove the outliers from the flipper_length_mm\n",
    "penguins_clean = penguins_df_nonull_noabberant[\n",
    "    ~(penguins_df_nonull_noabberant['flipper_length_mm']<lower_extreme) & \n",
    "    ~(penguins_df_nonull_noabberant['flipper_length_mm']>upper_extreme)]"
   ]
  },
  {
   "cell_type": "markdown",
   "id": "8ddb7932-b3e0-40b5-94a1-acd4991d3cef",
   "metadata": {},
   "source": [
    "# 2. Pre-process the cleaned data using standard scaling and the one-hot encoding to add dummy variables:\n",
    "   1. Create the dummy variables and remove the original categorical feature from the dataset.\n",
    "   1. Scale the data using the standard scaling method.\n",
    "   1. Save the updated data as a new DataFrame called penguins_preprocessed."
   ]
  },
  {
   "cell_type": "code",
   "execution_count": 229,
   "id": "b212ad31-ef51-4e5d-bbcc-956da3cd8c2f",
   "metadata": {},
   "outputs": [],
   "source": [
    "# Create the dummy variables and remove the original categorical feature from the dataset.\n",
    "penguin_sex_dummy = pd.get_dummies(penguins_clean['sex'])\n",
    "\n",
    "# Concatenate dummy variable in the original dataset\n",
    "penguins_clean_dummy = pd.concat([penguins_clean, penguin_sex_dummy], axis=1)\n",
    "\n",
    "# Remove the sex variable from the dataframe\n",
    "penguins_clean_dummy_only = penguins_clean_dummy.drop(['sex'], axis=1)"
   ]
  },
  {
   "cell_type": "code",
   "execution_count": 230,
   "id": "651c3c79-e24a-4037-ab5d-5d320c563cd5",
   "metadata": {},
   "outputs": [],
   "source": [
    "# Scale the data using the standard scaling method\n",
    "\n",
    "# Instantiate the StandardScaler\n",
    "scaler = StandardScaler()\n",
    "\n",
    "# Fit and transform the dataframe\n",
    "transformed_df = scaler.fit_transform(penguins_clean_dummy_only)\n",
    "\n",
    "# # Convert the scaled array to a pandas dataframe\n",
    "penguins_preprocessed = pd.DataFrame((transformed_df), columns=penguins_clean_dummy_only.columns)"
   ]
  },
  {
   "cell_type": "markdown",
   "id": "b19ef62e-3679-4a3c-a6ad-d00f616cf7e9",
   "metadata": {},
   "source": [
    "## 3. Perform Principal Component Analysis (PCA) on the penguins_preprocessed dataset to determine the desired number of components, considering any component with an explained variance ratio above 10% as a suitable component. \n",
    "   1. Save the number of components as a variable called n_components.\n",
    "   1. Finally, execute PCA using n_components and store the result as penguins_PCA."
   ]
  },
  {
   "cell_type": "code",
   "execution_count": 172,
   "id": "935f26d7-93eb-4d13-b0c6-55e5302023ab",
   "metadata": {},
   "outputs": [
    {
     "data": {
      "text/html": [
       "<style>#sk-container-id-10 {color: black;background-color: white;}#sk-container-id-10 pre{padding: 0;}#sk-container-id-10 div.sk-toggleable {background-color: white;}#sk-container-id-10 label.sk-toggleable__label {cursor: pointer;display: block;width: 100%;margin-bottom: 0;padding: 0.3em;box-sizing: border-box;text-align: center;}#sk-container-id-10 label.sk-toggleable__label-arrow:before {content: \"▸\";float: left;margin-right: 0.25em;color: #696969;}#sk-container-id-10 label.sk-toggleable__label-arrow:hover:before {color: black;}#sk-container-id-10 div.sk-estimator:hover label.sk-toggleable__label-arrow:before {color: black;}#sk-container-id-10 div.sk-toggleable__content {max-height: 0;max-width: 0;overflow: hidden;text-align: left;background-color: #f0f8ff;}#sk-container-id-10 div.sk-toggleable__content pre {margin: 0.2em;color: black;border-radius: 0.25em;background-color: #f0f8ff;}#sk-container-id-10 input.sk-toggleable__control:checked~div.sk-toggleable__content {max-height: 200px;max-width: 100%;overflow: auto;}#sk-container-id-10 input.sk-toggleable__control:checked~label.sk-toggleable__label-arrow:before {content: \"▾\";}#sk-container-id-10 div.sk-estimator input.sk-toggleable__control:checked~label.sk-toggleable__label {background-color: #d4ebff;}#sk-container-id-10 div.sk-label input.sk-toggleable__control:checked~label.sk-toggleable__label {background-color: #d4ebff;}#sk-container-id-10 input.sk-hidden--visually {border: 0;clip: rect(1px 1px 1px 1px);clip: rect(1px, 1px, 1px, 1px);height: 1px;margin: -1px;overflow: hidden;padding: 0;position: absolute;width: 1px;}#sk-container-id-10 div.sk-estimator {font-family: monospace;background-color: #f0f8ff;border: 1px dotted black;border-radius: 0.25em;box-sizing: border-box;margin-bottom: 0.5em;}#sk-container-id-10 div.sk-estimator:hover {background-color: #d4ebff;}#sk-container-id-10 div.sk-parallel-item::after {content: \"\";width: 100%;border-bottom: 1px solid gray;flex-grow: 1;}#sk-container-id-10 div.sk-label:hover label.sk-toggleable__label {background-color: #d4ebff;}#sk-container-id-10 div.sk-serial::before {content: \"\";position: absolute;border-left: 1px solid gray;box-sizing: border-box;top: 0;bottom: 0;left: 50%;z-index: 0;}#sk-container-id-10 div.sk-serial {display: flex;flex-direction: column;align-items: center;background-color: white;padding-right: 0.2em;padding-left: 0.2em;position: relative;}#sk-container-id-10 div.sk-item {position: relative;z-index: 1;}#sk-container-id-10 div.sk-parallel {display: flex;align-items: stretch;justify-content: center;background-color: white;position: relative;}#sk-container-id-10 div.sk-item::before, #sk-container-id-10 div.sk-parallel-item::before {content: \"\";position: absolute;border-left: 1px solid gray;box-sizing: border-box;top: 0;bottom: 0;left: 50%;z-index: -1;}#sk-container-id-10 div.sk-parallel-item {display: flex;flex-direction: column;z-index: 1;position: relative;background-color: white;}#sk-container-id-10 div.sk-parallel-item:first-child::after {align-self: flex-end;width: 50%;}#sk-container-id-10 div.sk-parallel-item:last-child::after {align-self: flex-start;width: 50%;}#sk-container-id-10 div.sk-parallel-item:only-child::after {width: 0;}#sk-container-id-10 div.sk-dashed-wrapped {border: 1px dashed gray;margin: 0 0.4em 0.5em 0.4em;box-sizing: border-box;padding-bottom: 0.4em;background-color: white;}#sk-container-id-10 div.sk-label label {font-family: monospace;font-weight: bold;display: inline-block;line-height: 1.2em;}#sk-container-id-10 div.sk-label-container {text-align: center;}#sk-container-id-10 div.sk-container {/* jupyter's `normalize.less` sets `[hidden] { display: none; }` but bootstrap.min.css set `[hidden] { display: none !important; }` so we also need the `!important` here to be able to override the default hidden behavior on the sphinx rendered scikit-learn.org. See: https://github.com/scikit-learn/scikit-learn/issues/21755 */display: inline-block !important;position: relative;}#sk-container-id-10 div.sk-text-repr-fallback {display: none;}</style><div id=\"sk-container-id-10\" class=\"sk-top-container\"><div class=\"sk-text-repr-fallback\"><pre>PCA()</pre><b>In a Jupyter environment, please rerun this cell to show the HTML representation or trust the notebook. <br />On GitHub, the HTML representation is unable to render, please try loading this page with nbviewer.org.</b></div><div class=\"sk-container\" hidden><div class=\"sk-item\"><div class=\"sk-estimator sk-toggleable\"><input class=\"sk-toggleable__control sk-hidden--visually\" id=\"sk-estimator-id-10\" type=\"checkbox\" checked><label for=\"sk-estimator-id-10\" class=\"sk-toggleable__label sk-toggleable__label-arrow\">PCA</label><div class=\"sk-toggleable__content\"><pre>PCA()</pre></div></div></div></div></div>"
      ],
      "text/plain": [
       "PCA()"
      ]
     },
     "execution_count": 172,
     "metadata": {},
     "output_type": "execute_result"
    }
   ],
   "source": [
    "pca = PCA()\n",
    "pca.fit(penguins_preprocessed)"
   ]
  },
  {
   "cell_type": "code",
   "execution_count": 173,
   "id": "0711f1d0-7954-4dda-815b-633bd37ae33a",
   "metadata": {},
   "outputs": [
    {
     "data": {
      "text/plain": [
       "[52.03406, 34.46311, 8.58557, 3.22912, 1.68814, 0.0]"
      ]
     },
     "execution_count": 173,
     "metadata": {},
     "output_type": "execute_result"
    }
   ],
   "source": [
    "# Identify the explained variance ratio for each component\n",
    "[round(i*100, 5) for i in pca.explained_variance_ratio_]"
   ]
  },
  {
   "cell_type": "code",
   "execution_count": 231,
   "id": "fba4e141-2ceb-4db4-a966-b76635f2934c",
   "metadata": {},
   "outputs": [],
   "source": [
    "# Save the number of components as a variable called n_components\n",
    "n_components = sum(pca.explained_variance_ratio_ >0.1)"
   ]
  },
  {
   "cell_type": "code",
   "execution_count": 233,
   "id": "2b88fd6d-f665-425d-9050-46c14ac18d08",
   "metadata": {},
   "outputs": [],
   "source": [
    "# Finally, execute PCA using n_components and store the result as penguins_PCA\n",
    "pca = PCA(n_components=n_components)\n",
    "penguins_PCA = pca.fit_transform(penguins_preprocessed)"
   ]
  },
  {
   "cell_type": "markdown",
   "id": "94c69bfd-5162-4964-b212-4b275575789d",
   "metadata": {},
   "source": [
    "# 4. Employ k-means clustering on the penguins_PCA dataset, setting random_state=42, to determine the number of clusters through elbow analysis. \n",
    "   1. Save the optimal number of clusters in a variable called n_cluster."
   ]
  },
  {
   "cell_type": "code",
   "execution_count": 276,
   "id": "c832e26d-4481-4d19-8f05-6fd5148bf143",
   "metadata": {},
   "outputs": [],
   "source": [
    "inertia_dict = {}\n",
    "for cluster in range(1,11):\n",
    "    kmeans = KMeans(n_clusters=cluster, random_state=42, n_init='auto').fit(penguins_PCA)\n",
    "    inertia_dict[cluster] = kmeans.inertia_"
   ]
  },
  {
   "cell_type": "code",
   "execution_count": 287,
   "id": "afd59811-2b83-4d0f-9bcc-a156906a4c42",
   "metadata": {},
   "outputs": [
    {
     "data": {
      "image/png": "[encoded data removed]",
      "text/plain": [
       "<Figure size 600x300 with 1 Axes>"
      ]
     },
     "metadata": {},
     "output_type": "display_data"
    }
   ],
   "source": [
    "fig, ax = plt.subplots(figsize=(6,3))\n",
    "ax.plot(inertia_dict.keys(), inertia_dict.values(), marker='.')\n",
    "ax.set_title('Elbow method to determine the optimal clusters')\n",
    "ax.set_xlabel('Number of clusters')\n",
    "ax.set_ylabel('Inertia')\n",
    "plt.show()\n",
    "#TODO: add an arrow if interested."
   ]
  },
  {
   "cell_type": "code",
   "execution_count": 284,
   "id": "b912eec6-0519-424f-9fc0-945c6bb6cdcc",
   "metadata": {},
   "outputs": [],
   "source": [
    "# Save the optimal number of clusters in a variable called n_cluster\n",
    "n_cluster = 4"
   ]
  },
  {
   "cell_type": "markdown",
   "id": "3fd830b9-3ccc-4266-837c-19cc3f5dfdcb",
   "metadata": {},
   "source": [
    "# 5. Create and fit a new k-means cluster model, setting n_cluster equal to your n_cluster variable, saving the model as a variable called kmeans.\n",
    "   1. Visualize your clusters using the first two principle components."
   ]
  },
  {
   "cell_type": "code",
   "execution_count": 321,
   "id": "94b471c4-c034-4b3b-a2d8-5fba73cf07c1",
   "metadata": {},
   "outputs": [],
   "source": [
    "#Create and fit a new k-means cluster model, setting n_cluster equal to your n_cluster variable, saving the model as a variable called kmeans.\n",
    "kmeans = KMeans(n_clusters=n_cluster, n_init='auto', random_state=42).fit(penguins_PCA)"
   ]
  },
  {
   "cell_type": "code",
   "execution_count": 319,
   "id": "1ed24e59-63f1-458b-bce3-52d5bfeb99dc",
   "metadata": {},
   "outputs": [
    {
     "data": {
      "image/png": "[encoded data removed]",
      "text/plain": [
       "<Figure size 600x300 with 1 Axes>"
      ]
     },
     "metadata": {},
     "output_type": "display_data"
    }
   ],
   "source": [
    "fig, ax = plt.subplots(figsize=(6,3))\n",
    "ax.scatter(penguins_PCA[:, 0], penguins_PCA[:, 1])\n",
    "ax.scatter(kmeans.cluster_centers_[:,0], kmeans.cluster_centers_[:, 1], c='red')\n",
    "ax.set_title(f'K-means clustering for penguin species (K={n_cluster})')\n",
    "ax.set_xlabel('First principal component')\n",
    "ax.set_ylabel('Second principal component')\n",
    "plt.show()"
   ]
  },
  {
   "cell_type": "markdown",
   "id": "f5382386-701c-4818-bd88-127f5a13b9d2",
   "metadata": {},
   "source": [
    "# 6. Add the label column extracted from the k-means clustering (using kmeans.labels_) to the penguins_clean DataFrame."
   ]
  },
  {
   "cell_type": "code",
   "execution_count": 329,
   "id": "42f3d8c1-df3b-41c9-801a-9f6db40aad1a",
   "metadata": {},
   "outputs": [],
   "source": [
    "penguins_clean = pd.concat([penguins_clean, pd.Series(kmeans.labels_)], axis=1).rename({0: 'label'}, axis=1)"
   ]
  },
  {
   "cell_type": "code",
   "execution_count": 330,
   "id": "193068d8-97c9-40e2-bb8c-c6da166f10e4",
   "metadata": {},
   "outputs": [
    {
     "data": {
      "text/html": [
       "<div>\n",
       "<style scoped>\n",
       "    .dataframe tbody tr th:only-of-type {\n",
       "        vertical-align: middle;\n",
       "    }\n",
       "\n",
       "    .dataframe tbody tr th {\n",
       "        vertical-align: top;\n",
       "    }\n",
       "\n",
       "    .dataframe thead th {\n",
       "        text-align: right;\n",
       "    }\n",
       "</style>\n",
       "<table border=\"1\" class=\"dataframe\">\n",
       "  <thead>\n",
       "    <tr style=\"text-align: right;\">\n",
       "      <th></th>\n",
       "      <th>culmen_length_mm</th>\n",
       "      <th>culmen_depth_mm</th>\n",
       "      <th>flipper_length_mm</th>\n",
       "      <th>body_mass_g</th>\n",
       "      <th>sex</th>\n",
       "      <th>label</th>\n",
       "    </tr>\n",
       "  </thead>\n",
       "  <tbody>\n",
       "    <tr>\n",
       "      <th>0</th>\n",
       "      <td>39.1</td>\n",
       "      <td>18.7</td>\n",
       "      <td>181.0</td>\n",
       "      <td>3750.0</td>\n",
       "      <td>MALE</td>\n",
       "      <td>0.0</td>\n",
       "    </tr>\n",
       "    <tr>\n",
       "      <th>1</th>\n",
       "      <td>39.5</td>\n",
       "      <td>17.4</td>\n",
       "      <td>186.0</td>\n",
       "      <td>3800.0</td>\n",
       "      <td>FEMALE</td>\n",
       "      <td>1.0</td>\n",
       "    </tr>\n",
       "    <tr>\n",
       "      <th>2</th>\n",
       "      <td>40.3</td>\n",
       "      <td>18.0</td>\n",
       "      <td>195.0</td>\n",
       "      <td>3250.0</td>\n",
       "      <td>FEMALE</td>\n",
       "      <td>1.0</td>\n",
       "    </tr>\n",
       "    <tr>\n",
       "      <th>4</th>\n",
       "      <td>36.7</td>\n",
       "      <td>19.3</td>\n",
       "      <td>193.0</td>\n",
       "      <td>3450.0</td>\n",
       "      <td>FEMALE</td>\n",
       "      <td>0.0</td>\n",
       "    </tr>\n",
       "    <tr>\n",
       "      <th>5</th>\n",
       "      <td>39.3</td>\n",
       "      <td>20.6</td>\n",
       "      <td>190.0</td>\n",
       "      <td>3650.0</td>\n",
       "      <td>MALE</td>\n",
       "      <td>1.0</td>\n",
       "    </tr>\n",
       "  </tbody>\n",
       "</table>\n",
       "</div>"
      ],
      "text/plain": [
       "   culmen_length_mm  culmen_depth_mm  flipper_length_mm  body_mass_g     sex  \\\n",
       "0              39.1             18.7              181.0       3750.0    MALE   \n",
       "1              39.5             17.4              186.0       3800.0  FEMALE   \n",
       "2              40.3             18.0              195.0       3250.0  FEMALE   \n",
       "4              36.7             19.3              193.0       3450.0  FEMALE   \n",
       "5              39.3             20.6              190.0       3650.0    MALE   \n",
       "\n",
       "   label  \n",
       "0    0.0  \n",
       "1    1.0  \n",
       "2    1.0  \n",
       "4    0.0  \n",
       "5    1.0  "
      ]
     },
     "execution_count": 330,
     "metadata": {},
     "output_type": "execute_result"
    }
   ],
   "source": [
    "penguins_clean.head()"
   ]
  },
  {
   "cell_type": "markdown",
   "id": "eb465c0d-2920-4c4e-bca2-32c1e5bc7bd9",
   "metadata": {},
   "source": [
    "# 7. Create a statistical table by grouping penguins_clean based on the \"label\" column and calculating the mean of each numeric column. Save this table as stat_penguins."
   ]
  },
  {
   "cell_type": "code",
   "execution_count": 356,
   "id": "074c974f-a34d-45a6-b5a6-b8650349d18d",
   "metadata": {},
   "outputs": [
    {
     "data": {
      "text/html": [
       "<div>\n",
       "<style scoped>\n",
       "    .dataframe tbody tr th:only-of-type {\n",
       "        vertical-align: middle;\n",
       "    }\n",
       "\n",
       "    .dataframe tbody tr th {\n",
       "        vertical-align: top;\n",
       "    }\n",
       "\n",
       "    .dataframe thead th {\n",
       "        text-align: right;\n",
       "    }\n",
       "</style>\n",
       "<table border=\"1\" class=\"dataframe\">\n",
       "  <thead>\n",
       "    <tr style=\"text-align: right;\">\n",
       "      <th></th>\n",
       "      <th>culmen_length_mm</th>\n",
       "      <th>culmen_depth_mm</th>\n",
       "      <th>flipper_length_mm</th>\n",
       "      <th>body_mass_g</th>\n",
       "    </tr>\n",
       "    <tr>\n",
       "      <th>label</th>\n",
       "      <th></th>\n",
       "      <th></th>\n",
       "      <th></th>\n",
       "      <th></th>\n",
       "    </tr>\n",
       "  </thead>\n",
       "  <tbody>\n",
       "    <tr>\n",
       "      <th>0.0</th>\n",
       "      <td>40.70</td>\n",
       "      <td>17.94</td>\n",
       "      <td>189.69</td>\n",
       "      <td>3514.90</td>\n",
       "    </tr>\n",
       "    <tr>\n",
       "      <th>1.0</th>\n",
       "      <td>42.93</td>\n",
       "      <td>18.80</td>\n",
       "      <td>193.64</td>\n",
       "      <td>3908.33</td>\n",
       "    </tr>\n",
       "    <tr>\n",
       "      <th>2.0</th>\n",
       "      <td>47.13</td>\n",
       "      <td>14.96</td>\n",
       "      <td>215.58</td>\n",
       "      <td>4938.33</td>\n",
       "    </tr>\n",
       "    <tr>\n",
       "      <th>3.0</th>\n",
       "      <td>48.05</td>\n",
       "      <td>15.39</td>\n",
       "      <td>216.46</td>\n",
       "      <td>5063.39</td>\n",
       "    </tr>\n",
       "  </tbody>\n",
       "</table>\n",
       "</div>"
      ],
      "text/plain": [
       "       culmen_length_mm  culmen_depth_mm  flipper_length_mm  body_mass_g\n",
       "label                                                                   \n",
       "0.0               40.70            17.94             189.69      3514.90\n",
       "1.0               42.93            18.80             193.64      3908.33\n",
       "2.0               47.13            14.96             215.58      4938.33\n",
       "3.0               48.05            15.39             216.46      5063.39"
      ]
     },
     "execution_count": 356,
     "metadata": {},
     "output_type": "execute_result"
    }
   ],
   "source": [
    "numeric_columns = ['culmen_length_mm', 'culmen_depth_mm', 'flipper_length_mm', 'body_mass_g']\n",
    "stat_penguins = penguins_clean.groupby('label')[numeric_columns].mean()\n",
    "stat_penguins.round(2)"
   ]
  },
  {
   "cell_type": "code",
   "execution_count": null,
   "id": "d8fed123-c04a-4476-a764-7863e9508ac7",
   "metadata": {},
   "outputs": [],
   "source": []
  }
 ],
 "metadata": {
  "colab": {
   "name": "Welcome to DataCamp Workspaces.ipynb",
   "provenance": []
  },
  "kernelspec": {
   "display_name": "Python 3 (ipykernel)",
   "language": "python",
   "name": "python3"
  },
  "language_info": {
   "codemirror_mode": {
    "name": "ipython",
    "version": 3
   },
   "file_extension": ".py",
   "mimetype": "text/x-python",
   "name": "python",
   "nbconvert_exporter": "python",
   "pygments_lexer": "ipython3",
   "version": "3.8.13"
  }
 },
 "nbformat": 4,
 "nbformat_minor": 5
}
